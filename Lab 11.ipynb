{
 "cells": [
  {
   "cell_type": "markdown",
   "metadata": {},
   "source": [
    "<a id='top'></a>\n",
    "# *Laboratory 11*"
   ]
  },
  {
   "cell_type": "markdown",
   "metadata": {},
   "source": [
    "Пакет суулгах заавар\n"
   ]
  },
  {
   "cell_type": "markdown",
   "metadata": {},
   "source": [
    "    pip install linkpred"
   ]
  },
  {
   "cell_type": "code",
   "execution_count": 1,
   "metadata": {},
   "outputs": [],
   "source": [
    "# linkpred пакетыг импортлох\n",
    "import linkpred"
   ]
  },
  {
   "cell_type": "code",
   "execution_count": 2,
   "metadata": {},
   "outputs": [],
   "source": [
    "# график зурахад шаардлагатай сангуудыг импортлох\n",
    "%matplotlib inline\n",
    "import matplotlib.pyplot as plt\n",
    "import networkx as nx"
   ]
  },
  {
   "cell_type": "code",
   "execution_count": 3,
   "metadata": {},
   "outputs": [],
   "source": [
    "# файлаас жинтэй сүлжээг уншиж авах функц\n",
    "def read_net_w(filename):\n",
    "    g = nx.Graph()\n",
    "    with open(filename) as f:\n",
    "        f.readline()\n",
    "        for l in f:\n",
    "            l = l.split(\",\")\n",
    "            g.add_edge(l[0], l[1], weight=int(l[2]))\n",
    "    return g\n",
    "\n",
    "# Game of Thrones өгөгдлийг ачаалах\n",
    "g = read_net_w(f'data/asioaf/got-s6-edges.csv')"
   ]
  },
  {
   "cell_type": "code",
   "execution_count": 4,
   "metadata": {},
   "outputs": [
    {
     "name": "stdout",
     "output_type": "stream",
     "text": [
      "TOMMEN - MACE 8.0\n",
      "NED - LADY_CRANE 8.0\n",
      "NED - CLARENZO 8.0\n",
      "MARGAERY - IZEMBARO 8.0\n",
      "MARGAERY - ARYA 8.0\n"
     ]
    }
   ],
   "source": [
    "# Нийтлэг хөршүүдийн аргаар холбоос таамаглах\n",
    "# Бид зөвхөн шинэ холбоосуудыг урьдчилан таамаглахыг зорьж байгаа тул одоо байгаа холбоосуудыг хасч байна\n",
    "cn = linkpred.predictors.CommonNeighbours(g, excluded=g.edges())\n",
    "cn_results = cn.predict()\n",
    "\n",
    "# Хамгийн өндөр оноотой 5 холбоосыг харуулах\n",
    "top = cn_results.top(5)\n",
    "for edge, score in top.items():\n",
    "    print(edge, score)"
   ]
  },
  {
   "cell_type": "code",
   "execution_count": 5,
   "metadata": {},
   "outputs": [
    {
     "name": "stdout",
     "output_type": "stream",
     "text": [
      "RED_PRIEST - KINVARA 1.0\n",
      "LITTLE_SAM - DICKON 1.0\n",
      "TOMMEN - MACE 0.7272727272727273\n",
      "JOFFREY - CAMELLO 0.7272727272727273\n",
      "OLD_NAN - BENJEN 0.7142857142857143\n"
     ]
    }
   ],
   "source": [
    "# Жаккардын аргаар холбоос таамаглах\n",
    "jc = linkpred.predictors.Jaccard(g, excluded=g.edges())\n",
    "jc_results = jc.predict()\n",
    "\n",
    "# Хамгийн өндөр оноотой 5 холбоосыг харуулах\n",
    "top = jc_results.top(5)\n",
    "for edge, score in top.items():\n",
    "    print(edge, score)"
   ]
  },
  {
   "cell_type": "code",
   "execution_count": 6,
   "metadata": {},
   "outputs": [
    {
     "name": "stdout",
     "output_type": "stream",
     "text": [
      "TOMMEN - MACE 3.187557281030789\n",
      "NED - LADY_CRANE 3.1263711657257836\n",
      "NED - CLARENZO 3.1263711657257836\n",
      "SANSA - ROBB 3.096644315133246\n",
      "JOFFREY - CAMELLO 2.8944937119329133\n"
     ]
    }
   ],
   "source": [
    "# Адамик-Адарын аргаар холбоос таамаглах\n",
    "aa = linkpred.predictors.AdamicAdar(g, excluded=g.edges())\n",
    "aa_results = aa.predict()\n",
    "\n",
    "# Хамгийн өндөр оноотой 5 холбоосыг харуулах\n",
    "top = aa_results.top(5)\n",
    "for edge, score in top.items():\n",
    "    print(edge, score)"
   ]
  },
  {
   "cell_type": "code",
   "execution_count": 7,
   "metadata": {},
   "outputs": [
    {
     "name": "stdout",
     "output_type": "stream",
     "text": [
      "Computing matrix powers: [############################################################] 5/5\n",
      "LADY_CRANE - JAQEN 0.005571576860773001\n",
      "SANSA - ALLISER_THORNE 0.004234378077202\n",
      "TYRION - DAARIO 0.004145905054793999\n",
      "CERSEI - BRIENNE 0.0038862606857720003\n",
      "MELISANDRE - LYANNA_MORMONT 0.0035937193855959996\n"
     ]
    }
   ],
   "source": [
    "# Катзын аргаар холбоос таамаглах\n",
    "kz = linkpred.predictors.Katz(g, excluded=g.edges())\n",
    "kz_results = kz.predict()\n",
    "\n",
    "# Хамгийн өндөр оноотой 5 холбоосыг харуулах\n",
    "top = kz_results.top(5)\n",
    "for edge, score in top.items():\n",
    "    print(edge, score)"
   ]
  },
  {
   "cell_type": "code",
   "execution_count": 8,
   "metadata": {},
   "outputs": [
    {
     "name": "stdout",
     "output_type": "stream",
     "text": [
      "LADY_CRANE - JAQEN 36.136054421768705\n",
      "TYRION - DAARIO 30.29268292682927\n",
      "CERSEI - BRIENNE 28.44827586206896\n",
      "MELISANDRE - LITTLEFINGER 23.427491305005294\n",
      "CERSEI - BRONN 23.294117647058822\n"
     ]
    }
   ],
   "source": [
    "# Графикийн зай аргаар холбоос таамаглах\n",
    "gd = linkpred.predictors.GraphDistance(g, excluded=g.edges())\n",
    "gd_results = gd.predict()\n",
    "\n",
    "# Хамгийн өндөр оноотой 5 холбоосыг харуулах\n",
    "top = gd_results.top(5)\n",
    "for edge, score in top.items():\n",
    "    print(edge, score)"
   ]
  },
  {
   "cell_type": "code",
   "execution_count": 9,
   "metadata": {},
   "outputs": [
    {
     "name": "stdout",
     "output_type": "stream",
     "text": [
      "MAESTER_CITADEL - MAESTER_AEMON 0.3920701611834453\n",
      "RAY - GATINS 0.3886464843365491\n",
      "GATINS - BERIC 0.3675791855431439\n",
      "THOROS - GATINS 0.3636591552182033\n",
      "MAESTER_AEMON - GILLY 0.3198896231578195\n"
     ]
    }
   ],
   "source": [
    "# SimRank аргаар холбоос таамаглах\n",
    "simrank = linkpred.predictors.SimRank(g, excluded=g.edges())\n",
    "simrank_results = simrank.predict(c=0.5)\n",
    "\n",
    "# Хамгийн өндөр оноотой 5 холбоосыг харуулах\n",
    "top = simrank_results.top(5)\n",
    "for edge, score in top.items():\n",
    "    print(edge, score)"
   ]
  },
  {
   "cell_type": "code",
   "execution_count": 10,
   "metadata": {},
   "outputs": [
    {
     "name": "stdout",
     "output_type": "stream",
     "text": [
      "RANDYLL - BELICHO 0.9999780334333523\n",
      "YOHN_ROYCE - SEPTA_UNELLA 0.9999717268765979\n",
      "DAVOS - BRAN 0.9998098495999727\n",
      "MEERA - MACE 0.9995079851026014\n",
      "OBARA - GREY_WORM 0.9993305314930677\n"
     ]
    }
   ],
   "source": [
    "# Санамсаргүй аргаар холбоос таамаглах\n",
    "rnd = linkpred.predictors.Random(g, excluded=g.edges())\n",
    "rnd_results = rnd.predict()\n",
    "\n",
    "# Хамгийн өндөр оноотой 5 холбоосыг харуулах\n",
    "top = rnd_results.top(5)\n",
    "for edge, score in top.items():\n",
    "    print(edge, score)"
   ]
  },
  {
   "cell_type": "code",
   "execution_count": 11,
   "metadata": {},
   "outputs": [],
   "source": [
    "# Нэмэлт сангуудыг импортлох\n",
    "import random\n",
    "import itertools\n",
    "from linkpred.evaluation import Pair\n",
    "\n",
    "# Тестийн сүлжээг ачаалах\n",
    "test = read_net_w(f'data/asioaf/got-s7-edges.csv')\n",
    "\n",
    "# Тестийн сүлжээг сургалтын үе шатнаас хасах\n",
    "training = g.copy()\n",
    "\n",
    "# Оройн олонлог\n",
    "nodes = list(g.nodes())\n",
    "nodes.extend(list(test.nodes()))\n",
    "\n",
    "# Тестийн олонлог ба орон зайн олонлогийг тооцоолох\n",
    "test = [Pair(i) for i in test.edges()]\n",
    "universe = set([Pair(i) for i in itertools.product(nodes, nodes) if i[0]!=i[1]])"
   ]
  },
  {
   "cell_type": "code",
   "execution_count": 12,
   "metadata": {},
   "outputs": [],
   "source": [
    "# Нийтлэг хөршүүдийн аргаар холбоос таамаглах\n",
    "cn = linkpred.predictors.CommonNeighbours(training, excluded=training.edges())\n",
    "cn_results = cn.predict()\n",
    "\n",
    "# Адамик-Адарын аргаар холбоос таамаглах\n",
    "aa = linkpred.predictors.AdamicAdar(training, excluded=training.edges())\n",
    "aa_results = aa.predict()\n",
    "\n",
    "# Жаккардын аргаар холбоос таамаглах\n",
    "jc = linkpred.predictors.Jaccard(training, excluded=training.edges())\n",
    "jc_results = jc.predict()"
   ]
  },
  {
   "cell_type": "code",
   "execution_count": 13,
   "metadata": {},
   "outputs": [],
   "source": [
    "# Үнэлгээний хуудас үүсгэх\n",
    "cn_evaluation = linkpred.evaluation.EvaluationSheet(cn_results, test, universe)\n",
    "aa_evaluation = linkpred.evaluation.EvaluationSheet(aa_results, test, universe)\n",
    "jc_evaluation = linkpred.evaluation.EvaluationSheet(jc_results, test, universe)"
   ]
  },
  {
   "cell_type": "code",
   "execution_count": 14,
   "metadata": {},
   "outputs": [
    {
     "data": {
      "image/png": "[encoded data removed]",
      "text/plain": [
       "<Figure size 640x480 with 1 Axes>"
      ]
     },
     "metadata": {},
     "output_type": "display_data"
    }
   ],
   "source": [
    "# ROC муруйг зурах\n",
    "plt.plot(cn_evaluation.fallout(), cn_evaluation.recall(), label=\"Нийтлэг Хөршүүд\")\n",
    "plt.plot(aa_evaluation.fallout(), aa_evaluation.recall(), label=\"Адамик Адар\")\n",
    "plt.plot(jc_evaluation.fallout(), jc_evaluation.recall(), label=\"Жаккард\")\n",
    "plt.ylabel(\"TPR\")\n",
    "plt.xlabel(\"FPR\")\n",
    "plt.legend()\n",
    "plt.show()"
   ]
  },
  {
   "cell_type": "code",
   "execution_count": 15,
   "metadata": {},
   "outputs": [
    {
     "name": "stdout",
     "output_type": "stream",
     "text": [
      "ROC муруйн доорх талбай (AUROC)\n",
      "Нийтлэг Хөршүүд: \t 0.026832485313825823\n",
      "Адамик Адар: \t 0.027259025673933773\n",
      "Жаккард: \t 0.018894838921578106\n"
     ]
    }
   ],
   "source": [
    "# sklearn сангаас auc функцийг импортлох\n",
    "from sklearn.metrics import auc\n",
    "\n",
    "# ROC муруйн доорх талбайг тооцоолох\n",
    "print(\"ROC муруйн доорх талбай (AUROC)\")\n",
    "print(f\"Нийтлэг Хөршүүд: \\t {auc(cn_evaluation.fallout(), cn_evaluation.recall())}\")\n",
    "print(f\"Адамик Адар: \\t {auc(aa_evaluation.fallout(), aa_evaluation.recall())}\")\n",
    "print(f\"Жаккард: \\t {auc(jc_evaluation.fallout(), jc_evaluation.recall())}\")"
   ]
  },
  {
   "cell_type": "markdown",
   "metadata": {},
   "source": [
    "Дүгнэлт\n",
    "\n",
    "Энэ удаагийн туршилтаараа бид сүлжээн дэх холбоосуудыг урьдчилан таамагладаг хэд хэдэн аргыг судалж, аль нь илүү сайн ажилладгийг харьцуулж үзлээ. Бид алдарт \"Game of Thrones\" цувралын 6-р улирлын дүрүүдийн хоорондын харилцааны мэдээллийг ашиглаад, 7-р улиралд ямар шинэ холбоосууд үүсэж болохыг таамаглахыг зорьсон юм.\n",
    "\n",
    "Гол үр дүнгүүд:\n",
    "\n",
    "\"Нийтлэг хөршүүд\", \"Адамик Адар\", \"Жаккард\" гэсэн аргууд хамгийн сайн таамаглаж байсан. Ялангуяа \"Адамик Адар\" арга нь үр дүнгийн үзүүлэлтээр (ROC муруйн доорх талбай буюу AUC) хамгийн оновчтой нь байлаа.\n",
    "Харин \"Катз\", \"SimRank\" шиг сүлжээний ерөнхий бүтцийг хардаг аргууд нь илүү төвөгтэй сүлжээнд сайн ажиллах боломжтой ч, тооцоолол хийхэд нэлээд нөөц шаарддаг сул талтай байв.\n",
    "Дүрүүдийн хоорондын \"зайн\"-д тулгуурлаж таамаглах нь ч холбоо үүсэх магадлалыг тодорхойлох сонирхолтой арга гэдэг нь харагдлаа.\n",
    "Мэдээж, ямар ч аргачлалгүйгээр санамсаргүй байдлаар таамаглахад хамгийн муу үр дүн гарсан. Энэ нь бидний таамаглаж байсантай таарч, бусад аргуудыг харьцуулах жишиг болж өглөө."
   ]
  },
  {
   "cell_type": "markdown",
   "metadata": {},
   "source": [
    "*Жаккард болон Адамик Адар хоёр яагаад ялгаатай үр дүн үзүүлж байна вэ?*\n",
    "\n",
    "Жаккард болон Адамик Адар хоёр алгоритм нь тооцооллын аргачлалаараа үндсэн ялгаатай. Жаккард нь хоёр оройн нийтлэг хөршүүдийг тэдгээрийн нийт хөршүүдэд харьцуулж, бүх хөршүүдийг адил ач холбогдолтой гэж үздэг. Харин Адамик Адар нь хөршүүдийн холбоосын тоонд суурилсан жин оноож, бага зэрэгтэй (цөөн холбоостой) хөршүүдэд илүү их ач холбогдол өгдөг. Game of Thrones сүлжээнд Адамик Адар нь илүү үр дүнтэй байгаа нь бага зэрэгтэй оройнуудын холбоосууд нь тус сүлжээнд илүү чухал гэсэн үг юм."
   ]
  },
  {
   "cell_type": "markdown",
   "metadata": {},
   "source": [
    "*Linkpred санг ашиглан decision tree алгоритмаар холбоосыг илрүүлж болох уу?*\n",
    "\n",
    "Тийм, linkpred санг decision tree алгоритмтай хослуулан ашиглаж болно, гэхдээ шууд дэмжлэг байхгүй. Үүнийг хэрэгжүүлэхдээ linkpred-ийн таамаглагчуудыг ашиглан шинж чанаруудыг (Нийтлэг хөршүүд, Жаккард, Адамик Адар гм) гаргаж авч, sklearn сангийн DecisionTreeClassifier-т оруулна. Эерэг жишээ (байгаа холбоосууд) ба сөрөг жишээ (байхгүй холбоосууд) бэлтгэж, загвар сургаад шинэ холбоосуудыг таамаглана. Энэ нь олон төрлийн шинж чанаруудыг нэгтгэх, машин сургалтын хүчийг ашиглах боломжийг олгодог."
   ]
  }
 ],
 "metadata": {
  "kernelspec": {
   "display_name": "Python 3",
   "language": "python",
   "name": "python3"
  },
  "language_info": {
   "codemirror_mode": {
    "name": "ipython",
    "version": 3
   },
   "file_extension": ".py",
   "mimetype": "text/x-python",
   "name": "python",
   "nbconvert_exporter": "python",
   "pygments_lexer": "ipython3",
   "version": "3.12.3"
  }
 },
 "nbformat": 4,
 "nbformat_minor": 4
}
